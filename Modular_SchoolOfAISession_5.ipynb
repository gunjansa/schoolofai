{
  "cells": [
    {
      "cell_type": "markdown",
      "metadata": {
        "id": "view-in-github",
        "colab_type": "text"
      },
      "source": [
        "<a href=\"https://colab.research.google.com/github/gunjansa/schoolofai/blob/main/Modular_SchoolOfAISession_5.ipynb\" target=\"_parent\"><img src=\"https://colab.research.google.com/assets/colab-badge.svg\" alt=\"Open In Colab\"/></a>"
      ]
    },
    {
      "cell_type": "markdown",
      "metadata": {
        "id": "n09vaEgP6pLj"
      },
      "source": [
        "CODE BLOCK: 1"
      ]
    },
    {
      "cell_type": "code",
      "execution_count": 1,
      "metadata": {
        "id": "6PlbomWY3RSq"
      },
      "outputs": [],
      "source": [
        "import torch\n",
        "import torch.nn as nn\n",
        "import torch.nn.functional as F\n",
        "import torch.optim as optim\n",
        "from torchvision import datasets, transforms\n",
        "import utils\n",
        "import model_assignment_5 as model_5\n",
        "import model_assignment_6 as model_6\n",
        "import model_assignment_7 as model_7\n",
        "import trainer"
      ]
    },
    {
      "cell_type": "markdown",
      "metadata": {
        "id": "VjBHHQVA6sXt"
      },
      "source": [
        "CODE BLOCK: 2"
      ]
    },
    {
      "cell_type": "code",
      "execution_count": 2,
      "metadata": {
        "colab": {
          "base_uri": "https://localhost:8080/"
        },
        "id": "94BxVVBP3WwS",
        "outputId": "b3fc79fd-92df-4b29-f145-93c6e8863b07"
      },
      "outputs": [
        {
          "output_type": "stream",
          "name": "stdout",
          "text": [
            "CUDA Available? False\n"
          ]
        },
        {
          "output_type": "execute_result",
          "data": {
            "text/plain": [
              "device(type='cpu')"
            ]
          },
          "metadata": {},
          "execution_count": 2
        }
      ],
      "source": [
        "# CUDA?\n",
        "cuda = torch.cuda.is_available()\n",
        "print(\"CUDA Available?\", cuda)\n",
        "device = torch.device('cuda') if torch.cuda.is_available() else torch.device('cpu')\n",
        "device"
      ]
    },
    {
      "cell_type": "markdown",
      "metadata": {
        "id": "3UHq59Sw6tmW"
      },
      "source": [
        "CODE BLOCK: 3"
      ]
    },
    {
      "cell_type": "code",
      "execution_count": 3,
      "metadata": {
        "id": "KpshQ2Ug38m2",
        "colab": {
          "base_uri": "https://localhost:8080/"
        },
        "outputId": "7914e8d7-5415-4600-e17f-222bf7e44aab"
      },
      "outputs": [
        {
          "output_type": "stream",
          "name": "stdout",
          "text": [
            "Downloading http://yann.lecun.com/exdb/mnist/train-images-idx3-ubyte.gz\n",
            "Failed to download (trying next):\n",
            "HTTP Error 403: Forbidden\n",
            "\n",
            "Downloading https://ossci-datasets.s3.amazonaws.com/mnist/train-images-idx3-ubyte.gz\n",
            "Downloading https://ossci-datasets.s3.amazonaws.com/mnist/train-images-idx3-ubyte.gz to ../data/MNIST/raw/train-images-idx3-ubyte.gz\n"
          ]
        },
        {
          "output_type": "stream",
          "name": "stderr",
          "text": [
            "100%|██████████| 9912422/9912422 [00:00<00:00, 35051711.45it/s]\n"
          ]
        },
        {
          "output_type": "stream",
          "name": "stdout",
          "text": [
            "Extracting ../data/MNIST/raw/train-images-idx3-ubyte.gz to ../data/MNIST/raw\n",
            "\n",
            "Downloading http://yann.lecun.com/exdb/mnist/train-labels-idx1-ubyte.gz\n",
            "Failed to download (trying next):\n",
            "HTTP Error 403: Forbidden\n",
            "\n",
            "Downloading https://ossci-datasets.s3.amazonaws.com/mnist/train-labels-idx1-ubyte.gz\n",
            "Downloading https://ossci-datasets.s3.amazonaws.com/mnist/train-labels-idx1-ubyte.gz to ../data/MNIST/raw/train-labels-idx1-ubyte.gz\n"
          ]
        },
        {
          "output_type": "stream",
          "name": "stderr",
          "text": [
            "100%|██████████| 28881/28881 [00:00<00:00, 1239848.66it/s]"
          ]
        },
        {
          "output_type": "stream",
          "name": "stdout",
          "text": [
            "Extracting ../data/MNIST/raw/train-labels-idx1-ubyte.gz to ../data/MNIST/raw\n",
            "\n",
            "Downloading http://yann.lecun.com/exdb/mnist/t10k-images-idx3-ubyte.gz\n"
          ]
        },
        {
          "output_type": "stream",
          "name": "stderr",
          "text": [
            "\n"
          ]
        },
        {
          "output_type": "stream",
          "name": "stdout",
          "text": [
            "Failed to download (trying next):\n",
            "HTTP Error 403: Forbidden\n",
            "\n",
            "Downloading https://ossci-datasets.s3.amazonaws.com/mnist/t10k-images-idx3-ubyte.gz\n",
            "Downloading https://ossci-datasets.s3.amazonaws.com/mnist/t10k-images-idx3-ubyte.gz to ../data/MNIST/raw/t10k-images-idx3-ubyte.gz\n"
          ]
        },
        {
          "output_type": "stream",
          "name": "stderr",
          "text": [
            "100%|██████████| 1648877/1648877 [00:00<00:00, 9502892.27it/s]\n"
          ]
        },
        {
          "output_type": "stream",
          "name": "stdout",
          "text": [
            "Extracting ../data/MNIST/raw/t10k-images-idx3-ubyte.gz to ../data/MNIST/raw\n",
            "\n",
            "Downloading http://yann.lecun.com/exdb/mnist/t10k-labels-idx1-ubyte.gz\n",
            "Failed to download (trying next):\n",
            "HTTP Error 403: Forbidden\n",
            "\n",
            "Downloading https://ossci-datasets.s3.amazonaws.com/mnist/t10k-labels-idx1-ubyte.gz\n",
            "Downloading https://ossci-datasets.s3.amazonaws.com/mnist/t10k-labels-idx1-ubyte.gz to ../data/MNIST/raw/t10k-labels-idx1-ubyte.gz\n"
          ]
        },
        {
          "output_type": "stream",
          "name": "stderr",
          "text": [
            "100%|██████████| 4542/4542 [00:00<00:00, 8200830.29it/s]"
          ]
        },
        {
          "output_type": "stream",
          "name": "stdout",
          "text": [
            "Extracting ../data/MNIST/raw/t10k-labels-idx1-ubyte.gz to ../data/MNIST/raw\n",
            "\n"
          ]
        },
        {
          "output_type": "stream",
          "name": "stderr",
          "text": [
            "\n"
          ]
        }
      ],
      "source": [
        "train_loader, test_loader = utils.create_mnist_dataloader(512)"
      ]
    },
    {
      "cell_type": "code",
      "execution_count": 4,
      "metadata": {
        "colab": {
          "base_uri": "https://localhost:8080/",
          "height": 226
        },
        "id": "Hx7QkLcw4Epc",
        "outputId": "8f9b75ca-3251-482d-d7a9-db718a551105"
      },
      "outputs": [
        {
          "output_type": "stream",
          "name": "stderr",
          "text": [
            "/usr/lib/python3.10/multiprocessing/popen_fork.py:66: RuntimeWarning: os.fork() was called. os.fork() is incompatible with multithreaded code, and JAX is multithreaded, so this will likely lead to a deadlock.\n",
            "  self.pid = os.fork()\n"
          ]
        },
        {
          "output_type": "display_data",
          "data": {
            "text/plain": [
              "<Figure size 640x480 with 2 Axes>"
            ],
            "image/png": "[encoded data removed]"
          },
          "metadata": {}
        }
      ],
      "source": [
        "utils.get_dataset_images(train_loader, 2)"
      ]
    },
    {
      "cell_type": "code",
      "source": [
        "model_mnist_6 = model_6.Net().to(device)\n",
        "utils.get_model_summary(model_mnist_6, device)"
      ],
      "metadata": {
        "id": "Y04SY4TZubIX"
      },
      "execution_count": null,
      "outputs": []
    },
    {
      "cell_type": "code",
      "source": [
        "model_mnist_5 = model.Net().to(device)\n",
        "utils.get_model_summary(model_mnist_5, device)"
      ],
      "metadata": {
        "colab": {
          "base_uri": "https://localhost:8080/"
        },
        "id": "-10zJjY4ukQo",
        "outputId": "b49602ab-b652-483b-b82f-e6667fb4da91"
      },
      "execution_count": null,
      "outputs": [
        {
          "output_type": "stream",
          "name": "stdout",
          "text": [
            "----------------------------------------------------------------\n",
            "        Layer (type)               Output Shape         Param #\n",
            "================================================================\n",
            "            Conv2d-1           [-1, 32, 26, 26]             320\n",
            "            Conv2d-2           [-1, 64, 24, 24]          18,496\n",
            "            Conv2d-3          [-1, 128, 10, 10]          73,856\n",
            "            Conv2d-4            [-1, 256, 8, 8]         295,168\n",
            "            Linear-5                   [-1, 50]         204,850\n",
            "            Linear-6                   [-1, 10]             510\n",
            "================================================================\n",
            "Total params: 593,200\n",
            "Trainable params: 593,200\n",
            "Non-trainable params: 0\n",
            "----------------------------------------------------------------\n",
            "Input size (MB): 0.00\n",
            "Forward/backward pass size (MB): 0.67\n",
            "Params size (MB): 2.26\n",
            "Estimated Total Size (MB): 2.94\n",
            "----------------------------------------------------------------\n"
          ]
        }
      ]
    },
    {
      "cell_type": "code",
      "source": [
        "class Net1(nn.Module):\n",
        "    #This defines the structure of the NN.\n",
        "    def __init__(self):\n",
        "        super(Net1, self).__init__()\n",
        "        # RF = RF + (jin * (kernel-1))\n",
        "        # jin = jin * stride\n",
        "        # For MaxPool, kernel = 2 and stride = 2\n",
        "        dropout_value = 0.1\n",
        "        self.convblock1 = nn.Sequential(\n",
        "            nn.Conv2d(in_channels=1, out_channels=16, kernel_size=(3, 3), padding=3, bias=False),\n",
        "            nn.ReLU(),\n",
        "            nn.BatchNorm2d(16)\n",
        "        ) # output_size = 26, RF = 3, jin=1\n",
        "\n",
        "        self.convblock2 = nn.Sequential(\n",
        "            nn.Conv2d(in_channels=16, out_channels=32, kernel_size=(3, 3), padding=2, bias=False),\n",
        "            nn.ReLU(),\n",
        "            nn.BatchNorm2d(32)\n",
        "        ) # output_size = 24, RF = 5, jin=1\n",
        "\n",
        "        self.pool1 = nn.MaxPool2d(2, 2) # output_size = 12, RF = 6, jin = 2\n",
        "\n",
        "        self.convblock3 = nn.Sequential(\n",
        "            nn.Conv2d(in_channels=32, out_channels=32, kernel_size=(3, 3), padding=0, bias=False),\n",
        "            nn.ReLU(),\n",
        "            nn.BatchNorm2d(32)\n",
        "        ) # output_size = 10, RF = 10, jin=2\n",
        "\n",
        "        self.pool2 = nn.MaxPool2d(2, 2) # output_size = 5, RF = 12, jin = 2\n",
        "\n",
        "        self.convblock4 = nn.Sequential(\n",
        "            nn.Conv2d(in_channels=32, out_channels=16, kernel_size=(3, 3), padding=0, bias=False),\n",
        "            nn.ReLU(),\n",
        "            nn.BatchNorm2d(16)\n",
        "        ) # output_size = 3, RF = 20, jin=4\n",
        "\n",
        "        self.convblock5 = nn.Sequential(\n",
        "            nn.Conv2d(in_channels=16, out_channels=16, kernel_size=(3, 3), padding=0, bias=False),\n",
        "            nn.ReLU(),\n",
        "            nn.BatchNorm2d(16)\n",
        "        ) # output_size = 1, RF = 28, jin=4\n",
        "\n",
        "        # CONV and GAP\n",
        "        self.convblock6 = nn.Sequential(\n",
        "            nn.Conv2d(in_channels=16, out_channels=10, kernel_size=(1, 1), padding=0, bias=False),\n",
        "            nn.ReLU()\n",
        "        ) # output_size = 1, RF = 28\n",
        "\n",
        "        # OUTPUT BLOCK\n",
        "        output_size_after_averaging = 1\n",
        "        self.gap = nn.Sequential(\n",
        "            nn.AdaptiveAvgPool2d(output_size_after_averaging)\n",
        "        ) # output_size = 1\n",
        "\n",
        "    def forward(self, x):\n",
        "        x = self.convblock1(x)\n",
        "        x = self.convblock2(x)\n",
        "        x = self.pool1(x)\n",
        "        x = self.convblock3(x)\n",
        "        x = self.pool2(x)\n",
        "        x = self.convblock4(x)\n",
        "        x = self.convblock5(x)\n",
        "\n",
        "        x = self.convblock6(x)\n",
        "        x = self.gap(x)\n",
        "\n",
        "        x = x.view(len(x), 10)\n",
        "\n",
        "        return F.log_softmax(x, dim=1)"
      ],
      "metadata": {
        "id": "nH6ZcqDLuzDc"
      },
      "execution_count": 17,
      "outputs": []
    },
    {
      "cell_type": "code",
      "source": [
        "model_mnist_test = Net1().to(device)\n",
        "utils.get_model_summary(model_mnist_test, device)"
      ],
      "metadata": {
        "colab": {
          "base_uri": "https://localhost:8080/"
        },
        "id": "aQQ3UZukwMnK",
        "outputId": "461fe4e4-44bc-4650-9439-8ef8f99b9d4a"
      },
      "execution_count": 18,
      "outputs": [
        {
          "output_type": "stream",
          "name": "stdout",
          "text": [
            "----------------------------------------------------------------\n",
            "        Layer (type)               Output Shape         Param #\n",
            "================================================================\n",
            "            Conv2d-1           [-1, 16, 32, 32]             144\n",
            "              ReLU-2           [-1, 16, 32, 32]               0\n",
            "       BatchNorm2d-3           [-1, 16, 32, 32]              32\n",
            "            Conv2d-4           [-1, 32, 34, 34]           4,608\n",
            "              ReLU-5           [-1, 32, 34, 34]               0\n",
            "       BatchNorm2d-6           [-1, 32, 34, 34]              64\n",
            "         MaxPool2d-7           [-1, 32, 17, 17]               0\n",
            "            Conv2d-8           [-1, 32, 15, 15]           9,216\n",
            "              ReLU-9           [-1, 32, 15, 15]               0\n",
            "      BatchNorm2d-10           [-1, 32, 15, 15]              64\n",
            "        MaxPool2d-11             [-1, 32, 7, 7]               0\n",
            "           Conv2d-12             [-1, 16, 5, 5]           4,608\n",
            "             ReLU-13             [-1, 16, 5, 5]               0\n",
            "      BatchNorm2d-14             [-1, 16, 5, 5]              32\n",
            "           Conv2d-15             [-1, 16, 3, 3]           2,304\n",
            "             ReLU-16             [-1, 16, 3, 3]               0\n",
            "      BatchNorm2d-17             [-1, 16, 3, 3]              32\n",
            "           Conv2d-18             [-1, 10, 3, 3]             160\n",
            "             ReLU-19             [-1, 10, 3, 3]               0\n",
            "AdaptiveAvgPool2d-20             [-1, 10, 1, 1]               0\n",
            "================================================================\n",
            "Total params: 21,264\n",
            "Trainable params: 21,264\n",
            "Non-trainable params: 0\n",
            "----------------------------------------------------------------\n",
            "Input size (MB): 0.00\n",
            "Forward/backward pass size (MB): 1.48\n",
            "Params size (MB): 0.08\n",
            "Estimated Total Size (MB): 1.57\n",
            "----------------------------------------------------------------\n"
          ]
        }
      ]
    },
    {
      "cell_type": "code",
      "source": [
        "model_mnist_1 = Net1().to(device)\n",
        "# optimizer = optim.SGD(model.parameters(), lr=10.01, momentum=0.9)\n",
        "optimizer = optim.SGD(model_mnist_9.parameters(), lr=0.01, momentum=0.9)\n",
        "# scheduler = optim.lr_scheduler.StepLR(optimizer, step_size=15, gamma=0.1, verbose=True)\n",
        "# New Line\n",
        "criterion = nn.CrossEntropyLoss()\n",
        "num_epochs = 20\n",
        "\n",
        "for epoch in range(1, num_epochs+1):\n",
        "  print(f'Epoch {epoch}')\n",
        "  trainer.train(model_mnist_9, device, train_loader, optimizer, criterion)\n",
        "  trainer.test(model_mnist_9, device, test_loader, criterion)\n",
        "  # scheduler.step()"
      ],
      "metadata": {
        "colab": {
          "base_uri": "https://localhost:8080/"
        },
        "id": "JZnMVvX7iIAw",
        "outputId": "697632f6-0729-4037-9708-3686c80a2c80"
      },
      "execution_count": null,
      "outputs": [
        {
          "output_type": "stream",
          "name": "stdout",
          "text": [
            "Epoch 1\n"
          ]
        },
        {
          "output_type": "stream",
          "name": "stderr",
          "text": [
            "\r  0%|          | 0/118 [00:00<?, ?it/s]/usr/lib/python3.10/multiprocessing/popen_fork.py:66: RuntimeWarning: os.fork() was called. os.fork() is incompatible with multithreaded code, and JAX is multithreaded, so this will likely lead to a deadlock.\n",
            "  self.pid = os.fork()\n",
            "Train: Loss=0.1865 Batch_id=117 Accuracy=79.92: 100%|██████████| 118/118 [03:31<00:00,  1.22s/it]/usr/lib/python3.10/multiprocessing/popen_fork.py:66: RuntimeWarning: os.fork() was called. os.fork() is incompatible with multithreaded code, and JAX is multithreaded, so this will likely lead to a deadlock.\n",
            "  self.pid = os.fork()\n",
            "Train: Loss=0.1865 Batch_id=117 Accuracy=79.92: 100%|██████████| 118/118 [03:31<00:00,  1.80s/it]\n"
          ]
        },
        {
          "output_type": "stream",
          "name": "stdout",
          "text": [
            "Test set: Average loss: 0.0004, Accuracy: 9727/10000 (97.27%)\n",
            "\n",
            "Epoch 2\n"
          ]
        },
        {
          "output_type": "stream",
          "name": "stderr",
          "text": [
            "Train: Loss=0.1225 Batch_id=117 Accuracy=97.84: 100%|██████████| 118/118 [03:17<00:00,  1.68s/it]\n"
          ]
        },
        {
          "output_type": "stream",
          "name": "stdout",
          "text": [
            "Test set: Average loss: 0.0002, Accuracy: 9820/10000 (98.20%)\n",
            "\n",
            "Epoch 3\n"
          ]
        },
        {
          "output_type": "stream",
          "name": "stderr",
          "text": [
            "Train: Loss=0.0343 Batch_id=117 Accuracy=98.61: 100%|██████████| 118/118 [03:15<00:00,  1.66s/it]\n"
          ]
        },
        {
          "output_type": "stream",
          "name": "stdout",
          "text": [
            "Test set: Average loss: 0.0001, Accuracy: 9863/10000 (98.63%)\n",
            "\n",
            "Epoch 4\n"
          ]
        },
        {
          "output_type": "stream",
          "name": "stderr",
          "text": [
            "Train: Loss=0.0774 Batch_id=117 Accuracy=98.94: 100%|██████████| 118/118 [03:25<00:00,  1.74s/it]\n"
          ]
        },
        {
          "output_type": "stream",
          "name": "stdout",
          "text": [
            "Test set: Average loss: 0.0001, Accuracy: 9880/10000 (98.80%)\n",
            "\n",
            "Epoch 5\n"
          ]
        },
        {
          "output_type": "stream",
          "name": "stderr",
          "text": [
            "Train: Loss=0.0582 Batch_id=117 Accuracy=99.10: 100%|██████████| 118/118 [03:17<00:00,  1.68s/it]\n"
          ]
        },
        {
          "output_type": "stream",
          "name": "stdout",
          "text": [
            "Test set: Average loss: 0.0001, Accuracy: 9895/10000 (98.95%)\n",
            "\n",
            "Epoch 6\n"
          ]
        },
        {
          "output_type": "stream",
          "name": "stderr",
          "text": [
            "Train: Loss=0.0141 Batch_id=117 Accuracy=99.28: 100%|██████████| 118/118 [03:17<00:00,  1.67s/it]\n"
          ]
        },
        {
          "output_type": "stream",
          "name": "stdout",
          "text": [
            "Test set: Average loss: 0.0001, Accuracy: 9902/10000 (99.02%)\n",
            "\n",
            "Epoch 7\n"
          ]
        },
        {
          "output_type": "stream",
          "name": "stderr",
          "text": [
            "Train: Loss=0.0442 Batch_id=117 Accuracy=99.41: 100%|██████████| 118/118 [03:26<00:00,  1.75s/it]\n"
          ]
        },
        {
          "output_type": "stream",
          "name": "stdout",
          "text": [
            "Test set: Average loss: 0.0001, Accuracy: 9905/10000 (99.05%)\n",
            "\n",
            "Epoch 8\n"
          ]
        },
        {
          "output_type": "stream",
          "name": "stderr",
          "text": [
            "Train: Loss=0.0109 Batch_id=117 Accuracy=99.52: 100%|██████████| 118/118 [03:19<00:00,  1.69s/it]\n"
          ]
        },
        {
          "output_type": "stream",
          "name": "stdout",
          "text": [
            "Test set: Average loss: 0.0001, Accuracy: 9905/10000 (99.05%)\n",
            "\n",
            "Epoch 9\n"
          ]
        },
        {
          "output_type": "stream",
          "name": "stderr",
          "text": [
            "Train: Loss=0.0169 Batch_id=117 Accuracy=99.60: 100%|██████████| 118/118 [03:26<00:00,  1.75s/it]\n"
          ]
        },
        {
          "output_type": "stream",
          "name": "stdout",
          "text": [
            "Test set: Average loss: 0.0001, Accuracy: 9905/10000 (99.05%)\n",
            "\n",
            "Epoch 10\n"
          ]
        },
        {
          "output_type": "stream",
          "name": "stderr",
          "text": [
            "Train: Loss=0.0179 Batch_id=117 Accuracy=99.65: 100%|██████████| 118/118 [03:16<00:00,  1.67s/it]\n"
          ]
        },
        {
          "output_type": "stream",
          "name": "stdout",
          "text": [
            "Test set: Average loss: 0.0001, Accuracy: 9894/10000 (98.94%)\n",
            "\n",
            "Epoch 11\n"
          ]
        },
        {
          "output_type": "stream",
          "name": "stderr",
          "text": [
            "Train: Loss=0.0332 Batch_id=117 Accuracy=99.68: 100%|██████████| 118/118 [03:18<00:00,  1.68s/it]\n"
          ]
        },
        {
          "output_type": "stream",
          "name": "stdout",
          "text": [
            "Test set: Average loss: 0.0001, Accuracy: 9901/10000 (99.01%)\n",
            "\n",
            "Epoch 12\n"
          ]
        },
        {
          "output_type": "stream",
          "name": "stderr",
          "text": [
            "Train: Loss=0.0159 Batch_id=54 Accuracy=99.78:  46%|████▌     | 54/118 [01:32<01:42,  1.60s/it]"
          ]
        }
      ]
    },
    {
      "cell_type": "code",
      "source": [
        "model_mnist_test = Net().to(device)\n",
        "# optimizer = optim.SGD(model.parameters(), lr=10.01, momentum=0.9)\n",
        "optimizer = optim.SGD(model_mnist_test.parameters(), lr=0.1, momentum=0.9)\n",
        "scheduler = optim.lr_scheduler.StepLR(optimizer, step_size=15, gamma=0.1, verbose=True)\n",
        "# New Line\n",
        "criterion = nn.CrossEntropyLoss()\n",
        "num_epochs = 20\n",
        "\n",
        "for epoch in range(1, num_epochs+1):\n",
        "  print(f'Epoch {epoch}')\n",
        "  trainer.train(model_mnist_test, device, train_loader, optimizer, criterion)\n",
        "  trainer.test(model_mnist_test, device, test_loader, criterion)\n",
        "  scheduler.step()"
      ],
      "metadata": {
        "colab": {
          "base_uri": "https://localhost:8080/"
        },
        "id": "T_oGXMuTjXH5",
        "outputId": "eff344c3-baca-41ad-ad1a-7637bc486bfc"
      },
      "execution_count": null,
      "outputs": [
        {
          "output_type": "stream",
          "name": "stdout",
          "text": [
            "Epoch 1\n"
          ]
        },
        {
          "output_type": "stream",
          "name": "stderr",
          "text": [
            "Train: Loss=0.0627 Batch_id=117 Accuracy=85.13: 100%|██████████| 118/118 [00:19<00:00,  6.19it/s]\n"
          ]
        },
        {
          "output_type": "stream",
          "name": "stdout",
          "text": [
            "Test set: Average loss: 0.0001, Accuracy: 9810/10000 (98.10%)\n",
            "\n",
            "Epoch 2\n"
          ]
        },
        {
          "output_type": "stream",
          "name": "stderr",
          "text": [
            "Train: Loss=0.0496 Batch_id=117 Accuracy=96.95: 100%|██████████| 118/118 [00:19<00:00,  6.19it/s]\n"
          ]
        },
        {
          "output_type": "stream",
          "name": "stdout",
          "text": [
            "Test set: Average loss: 0.0001, Accuracy: 9808/10000 (98.08%)\n",
            "\n",
            "Epoch 3\n"
          ]
        },
        {
          "output_type": "stream",
          "name": "stderr",
          "text": [
            "Train: Loss=0.1060 Batch_id=117 Accuracy=97.58: 100%|██████████| 118/118 [00:18<00:00,  6.35it/s]\n"
          ]
        },
        {
          "output_type": "stream",
          "name": "stdout",
          "text": [
            "Test set: Average loss: 0.0001, Accuracy: 9885/10000 (98.85%)\n",
            "\n",
            "Epoch 4\n"
          ]
        },
        {
          "output_type": "stream",
          "name": "stderr",
          "text": [
            "Train: Loss=0.1710 Batch_id=117 Accuracy=97.99: 100%|██████████| 118/118 [00:19<00:00,  6.14it/s]\n"
          ]
        },
        {
          "output_type": "stream",
          "name": "stdout",
          "text": [
            "Test set: Average loss: 0.0001, Accuracy: 9896/10000 (98.96%)\n",
            "\n",
            "Epoch 5\n"
          ]
        },
        {
          "output_type": "stream",
          "name": "stderr",
          "text": [
            "Train: Loss=0.0897 Batch_id=117 Accuracy=98.25: 100%|██████████| 118/118 [00:18<00:00,  6.46it/s]\n"
          ]
        },
        {
          "output_type": "stream",
          "name": "stdout",
          "text": [
            "Test set: Average loss: 0.0001, Accuracy: 9881/10000 (98.81%)\n",
            "\n",
            "Epoch 6\n"
          ]
        },
        {
          "output_type": "stream",
          "name": "stderr",
          "text": [
            "Train: Loss=0.0856 Batch_id=117 Accuracy=98.32: 100%|██████████| 118/118 [00:17<00:00,  6.57it/s]\n"
          ]
        },
        {
          "output_type": "stream",
          "name": "stdout",
          "text": [
            "Test set: Average loss: 0.0001, Accuracy: 9897/10000 (98.97%)\n",
            "\n",
            "Epoch 7\n"
          ]
        },
        {
          "output_type": "stream",
          "name": "stderr",
          "text": [
            "Train: Loss=0.0509 Batch_id=117 Accuracy=98.33: 100%|██████████| 118/118 [00:19<00:00,  6.20it/s]\n"
          ]
        },
        {
          "output_type": "stream",
          "name": "stdout",
          "text": [
            "Test set: Average loss: 0.0001, Accuracy: 9903/10000 (99.03%)\n",
            "\n",
            "Epoch 8\n"
          ]
        },
        {
          "output_type": "stream",
          "name": "stderr",
          "text": [
            "Train: Loss=0.0735 Batch_id=117 Accuracy=98.55: 100%|██████████| 118/118 [00:18<00:00,  6.53it/s]\n"
          ]
        },
        {
          "output_type": "stream",
          "name": "stdout",
          "text": [
            "Test set: Average loss: 0.0000, Accuracy: 9917/10000 (99.17%)\n",
            "\n",
            "Epoch 9\n"
          ]
        },
        {
          "output_type": "stream",
          "name": "stderr",
          "text": [
            "Train: Loss=0.0275 Batch_id=117 Accuracy=98.58: 100%|██████████| 118/118 [00:19<00:00,  5.91it/s]\n"
          ]
        },
        {
          "output_type": "stream",
          "name": "stdout",
          "text": [
            "Test set: Average loss: 0.0000, Accuracy: 9931/10000 (99.31%)\n",
            "\n",
            "Epoch 10\n"
          ]
        },
        {
          "output_type": "stream",
          "name": "stderr",
          "text": [
            "Train: Loss=0.0213 Batch_id=117 Accuracy=98.61: 100%|██████████| 118/118 [00:18<00:00,  6.50it/s]\n"
          ]
        },
        {
          "output_type": "stream",
          "name": "stdout",
          "text": [
            "Test set: Average loss: 0.0001, Accuracy: 9917/10000 (99.17%)\n",
            "\n",
            "Epoch 11\n"
          ]
        },
        {
          "output_type": "stream",
          "name": "stderr",
          "text": [
            "Train: Loss=0.0551 Batch_id=117 Accuracy=98.67: 100%|██████████| 118/118 [00:18<00:00,  6.43it/s]\n"
          ]
        },
        {
          "output_type": "stream",
          "name": "stdout",
          "text": [
            "Test set: Average loss: 0.0000, Accuracy: 9933/10000 (99.33%)\n",
            "\n",
            "Epoch 12\n"
          ]
        },
        {
          "output_type": "stream",
          "name": "stderr",
          "text": [
            "Train: Loss=0.0305 Batch_id=117 Accuracy=98.70: 100%|██████████| 118/118 [00:19<00:00,  6.20it/s]\n"
          ]
        },
        {
          "output_type": "stream",
          "name": "stdout",
          "text": [
            "Test set: Average loss: 0.0001, Accuracy: 9912/10000 (99.12%)\n",
            "\n",
            "Epoch 13\n"
          ]
        },
        {
          "output_type": "stream",
          "name": "stderr",
          "text": [
            "Train: Loss=0.0478 Batch_id=117 Accuracy=98.72: 100%|██████████| 118/118 [00:17<00:00,  6.57it/s]\n"
          ]
        },
        {
          "output_type": "stream",
          "name": "stdout",
          "text": [
            "Test set: Average loss: 0.0000, Accuracy: 9926/10000 (99.26%)\n",
            "\n",
            "Epoch 14\n"
          ]
        },
        {
          "output_type": "stream",
          "name": "stderr",
          "text": [
            "Train: Loss=0.0101 Batch_id=117 Accuracy=98.85: 100%|██████████| 118/118 [00:19<00:00,  6.21it/s]\n"
          ]
        },
        {
          "output_type": "stream",
          "name": "stdout",
          "text": [
            "Test set: Average loss: 0.0000, Accuracy: 9935/10000 (99.35%)\n",
            "\n",
            "Epoch 15\n"
          ]
        },
        {
          "output_type": "stream",
          "name": "stderr",
          "text": [
            "Train: Loss=0.0518 Batch_id=117 Accuracy=98.90: 100%|██████████| 118/118 [00:18<00:00,  6.50it/s]\n"
          ]
        },
        {
          "output_type": "stream",
          "name": "stdout",
          "text": [
            "Test set: Average loss: 0.0000, Accuracy: 9939/10000 (99.39%)\n",
            "\n",
            "Epoch 16\n"
          ]
        },
        {
          "output_type": "stream",
          "name": "stderr",
          "text": [
            "Train: Loss=0.0118 Batch_id=117 Accuracy=98.99: 100%|██████████| 118/118 [00:17<00:00,  6.56it/s]\n"
          ]
        },
        {
          "output_type": "stream",
          "name": "stdout",
          "text": [
            "Test set: Average loss: 0.0000, Accuracy: 9953/10000 (99.53%)\n",
            "\n",
            "Epoch 17\n"
          ]
        },
        {
          "output_type": "stream",
          "name": "stderr",
          "text": [
            "Train: Loss=0.0412 Batch_id=117 Accuracy=99.06: 100%|██████████| 118/118 [00:19<00:00,  6.16it/s]\n"
          ]
        },
        {
          "output_type": "stream",
          "name": "stdout",
          "text": [
            "Test set: Average loss: 0.0000, Accuracy: 9955/10000 (99.55%)\n",
            "\n",
            "Epoch 18\n"
          ]
        },
        {
          "output_type": "stream",
          "name": "stderr",
          "text": [
            "Train: Loss=0.1518 Batch_id=117 Accuracy=99.06: 100%|██████████| 118/118 [00:18<00:00,  6.22it/s]\n"
          ]
        },
        {
          "output_type": "stream",
          "name": "stdout",
          "text": [
            "Test set: Average loss: 0.0000, Accuracy: 9954/10000 (99.54%)\n",
            "\n",
            "Epoch 19\n"
          ]
        },
        {
          "output_type": "stream",
          "name": "stderr",
          "text": [
            "Train: Loss=0.0135 Batch_id=117 Accuracy=99.10: 100%|██████████| 118/118 [00:18<00:00,  6.55it/s]\n"
          ]
        },
        {
          "output_type": "stream",
          "name": "stdout",
          "text": [
            "Test set: Average loss: 0.0000, Accuracy: 9950/10000 (99.50%)\n",
            "\n",
            "Epoch 20\n"
          ]
        },
        {
          "output_type": "stream",
          "name": "stderr",
          "text": [
            "Train: Loss=0.0084 Batch_id=117 Accuracy=99.09: 100%|██████████| 118/118 [00:19<00:00,  6.21it/s]\n"
          ]
        },
        {
          "output_type": "stream",
          "name": "stdout",
          "text": [
            "Test set: Average loss: 0.0000, Accuracy: 9950/10000 (99.50%)\n",
            "\n"
          ]
        }
      ]
    },
    {
      "cell_type": "code",
      "execution_count": null,
      "metadata": {
        "colab": {
          "base_uri": "https://localhost:8080/"
        },
        "id": "Owqiet9M4TV7",
        "outputId": "af7bf292-db39-4eeb-f9a1-6bf639b73c7d"
      },
      "outputs": [
        {
          "output_type": "stream",
          "name": "stdout",
          "text": [
            "Adjusting learning rate of group 0 to 1.0000e-02.\n",
            "Epoch 1\n"
          ]
        },
        {
          "output_type": "stream",
          "name": "stderr",
          "text": [
            "Train: Loss=0.2560 Batch_id=117 Accuracy=49.49: 100%|██████████| 118/118 [00:22<00:00,  5.14it/s]\n"
          ]
        },
        {
          "output_type": "stream",
          "name": "stdout",
          "text": [
            "Test set: Average loss: 0.0006, Accuracy: 9159/10000 (91.59%)\n",
            "\n",
            "Adjusting learning rate of group 0 to 1.0000e-02.\n",
            "Epoch 2\n"
          ]
        },
        {
          "output_type": "stream",
          "name": "stderr",
          "text": [
            "Train: Loss=0.0880 Batch_id=117 Accuracy=93.31: 100%|██████████| 118/118 [00:22<00:00,  5.32it/s]\n"
          ]
        },
        {
          "output_type": "stream",
          "name": "stdout",
          "text": [
            "Test set: Average loss: 0.0002, Accuracy: 9713/10000 (97.13%)\n",
            "\n",
            "Adjusting learning rate of group 0 to 1.0000e-02.\n",
            "Epoch 3\n"
          ]
        },
        {
          "output_type": "stream",
          "name": "stderr",
          "text": [
            "Train: Loss=0.0771 Batch_id=117 Accuracy=96.27: 100%|██████████| 118/118 [00:21<00:00,  5.40it/s]\n"
          ]
        },
        {
          "output_type": "stream",
          "name": "stdout",
          "text": [
            "Test set: Average loss: 0.0002, Accuracy: 9791/10000 (97.91%)\n",
            "\n",
            "Adjusting learning rate of group 0 to 1.0000e-02.\n",
            "Epoch 4\n"
          ]
        },
        {
          "output_type": "stream",
          "name": "stderr",
          "text": [
            "Train: Loss=0.0953 Batch_id=117 Accuracy=96.97: 100%|██████████| 118/118 [00:21<00:00,  5.51it/s]\n"
          ]
        },
        {
          "output_type": "stream",
          "name": "stdout",
          "text": [
            "Test set: Average loss: 0.0001, Accuracy: 9845/10000 (98.45%)\n",
            "\n",
            "Adjusting learning rate of group 0 to 1.0000e-02.\n",
            "Epoch 5\n"
          ]
        },
        {
          "output_type": "stream",
          "name": "stderr",
          "text": [
            "Train: Loss=0.0455 Batch_id=117 Accuracy=97.49: 100%|██████████| 118/118 [00:21<00:00,  5.37it/s]\n"
          ]
        },
        {
          "output_type": "stream",
          "name": "stdout",
          "text": [
            "Test set: Average loss: 0.0001, Accuracy: 9860/10000 (98.60%)\n",
            "\n",
            "Adjusting learning rate of group 0 to 1.0000e-02.\n",
            "Epoch 6\n"
          ]
        },
        {
          "output_type": "stream",
          "name": "stderr",
          "text": [
            "Train: Loss=0.0287 Batch_id=117 Accuracy=97.84: 100%|██████████| 118/118 [00:22<00:00,  5.23it/s]\n"
          ]
        },
        {
          "output_type": "stream",
          "name": "stdout",
          "text": [
            "Test set: Average loss: 0.0001, Accuracy: 9879/10000 (98.79%)\n",
            "\n",
            "Adjusting learning rate of group 0 to 1.0000e-02.\n",
            "Epoch 7\n"
          ]
        },
        {
          "output_type": "stream",
          "name": "stderr",
          "text": [
            "Train: Loss=0.0347 Batch_id=117 Accuracy=98.08: 100%|██████████| 118/118 [00:22<00:00,  5.29it/s]\n"
          ]
        },
        {
          "output_type": "stream",
          "name": "stdout",
          "text": [
            "Test set: Average loss: 0.0001, Accuracy: 9885/10000 (98.85%)\n",
            "\n",
            "Adjusting learning rate of group 0 to 1.0000e-02.\n",
            "Epoch 8\n"
          ]
        },
        {
          "output_type": "stream",
          "name": "stderr",
          "text": [
            "Train: Loss=0.1607 Batch_id=117 Accuracy=98.17: 100%|██████████| 118/118 [00:22<00:00,  5.15it/s]\n"
          ]
        },
        {
          "output_type": "stream",
          "name": "stdout",
          "text": [
            "Test set: Average loss: 0.0001, Accuracy: 9885/10000 (98.85%)\n",
            "\n",
            "Adjusting learning rate of group 0 to 1.0000e-02.\n",
            "Epoch 9\n"
          ]
        },
        {
          "output_type": "stream",
          "name": "stderr",
          "text": [
            "Train: Loss=0.1283 Batch_id=117 Accuracy=98.30: 100%|██████████| 118/118 [00:22<00:00,  5.29it/s]\n"
          ]
        },
        {
          "output_type": "stream",
          "name": "stdout",
          "text": [
            "Test set: Average loss: 0.0001, Accuracy: 9905/10000 (99.05%)\n",
            "\n",
            "Adjusting learning rate of group 0 to 1.0000e-02.\n",
            "Epoch 10\n"
          ]
        },
        {
          "output_type": "stream",
          "name": "stderr",
          "text": [
            "Train: Loss=0.0233 Batch_id=117 Accuracy=98.43: 100%|██████████| 118/118 [00:23<00:00,  5.08it/s]\n"
          ]
        },
        {
          "output_type": "stream",
          "name": "stdout",
          "text": [
            "Test set: Average loss: 0.0001, Accuracy: 9909/10000 (99.09%)\n",
            "\n",
            "Adjusting learning rate of group 0 to 1.0000e-02.\n",
            "Epoch 11\n"
          ]
        },
        {
          "output_type": "stream",
          "name": "stderr",
          "text": [
            "Train: Loss=0.0591 Batch_id=117 Accuracy=98.50: 100%|██████████| 118/118 [00:22<00:00,  5.15it/s]\n"
          ]
        },
        {
          "output_type": "stream",
          "name": "stdout",
          "text": [
            "Test set: Average loss: 0.0001, Accuracy: 9889/10000 (98.89%)\n",
            "\n",
            "Adjusting learning rate of group 0 to 1.0000e-02.\n",
            "Epoch 12\n"
          ]
        },
        {
          "output_type": "stream",
          "name": "stderr",
          "text": [
            "Train: Loss=0.0508 Batch_id=117 Accuracy=98.72: 100%|██████████| 118/118 [00:21<00:00,  5.44it/s]\n"
          ]
        },
        {
          "output_type": "stream",
          "name": "stdout",
          "text": [
            "Test set: Average loss: 0.0001, Accuracy: 9910/10000 (99.10%)\n",
            "\n",
            "Adjusting learning rate of group 0 to 1.0000e-02.\n",
            "Epoch 13\n"
          ]
        },
        {
          "output_type": "stream",
          "name": "stderr",
          "text": [
            "Train: Loss=0.0183 Batch_id=117 Accuracy=98.83: 100%|██████████| 118/118 [00:21<00:00,  5.41it/s]\n"
          ]
        },
        {
          "output_type": "stream",
          "name": "stdout",
          "text": [
            "Test set: Average loss: 0.0001, Accuracy: 9918/10000 (99.18%)\n",
            "\n",
            "Adjusting learning rate of group 0 to 1.0000e-02.\n",
            "Epoch 14\n"
          ]
        },
        {
          "output_type": "stream",
          "name": "stderr",
          "text": [
            "Train: Loss=0.0038 Batch_id=117 Accuracy=98.81: 100%|██████████| 118/118 [00:22<00:00,  5.16it/s]\n"
          ]
        },
        {
          "output_type": "stream",
          "name": "stdout",
          "text": [
            "Test set: Average loss: 0.0001, Accuracy: 9923/10000 (99.23%)\n",
            "\n",
            "Adjusting learning rate of group 0 to 1.0000e-02.\n",
            "Epoch 15\n"
          ]
        },
        {
          "output_type": "stream",
          "name": "stderr",
          "text": [
            "Train: Loss=0.1008 Batch_id=117 Accuracy=98.88: 100%|██████████| 118/118 [00:23<00:00,  5.12it/s]\n"
          ]
        },
        {
          "output_type": "stream",
          "name": "stdout",
          "text": [
            "Test set: Average loss: 0.0001, Accuracy: 9912/10000 (99.12%)\n",
            "\n",
            "Adjusting learning rate of group 0 to 1.0000e-03.\n",
            "Epoch 16\n"
          ]
        },
        {
          "output_type": "stream",
          "name": "stderr",
          "text": [
            "Train: Loss=0.0103 Batch_id=117 Accuracy=99.08: 100%|██████████| 118/118 [00:23<00:00,  4.94it/s]\n"
          ]
        },
        {
          "output_type": "stream",
          "name": "stdout",
          "text": [
            "Test set: Average loss: 0.0000, Accuracy: 9923/10000 (99.23%)\n",
            "\n",
            "Adjusting learning rate of group 0 to 1.0000e-03.\n",
            "Epoch 17\n"
          ]
        },
        {
          "output_type": "stream",
          "name": "stderr",
          "text": [
            "Train: Loss=0.0415 Batch_id=117 Accuracy=99.23: 100%|██████████| 118/118 [00:23<00:00,  5.03it/s]\n"
          ]
        },
        {
          "output_type": "stream",
          "name": "stdout",
          "text": [
            "Test set: Average loss: 0.0000, Accuracy: 9924/10000 (99.24%)\n",
            "\n",
            "Adjusting learning rate of group 0 to 1.0000e-03.\n",
            "Epoch 18\n"
          ]
        },
        {
          "output_type": "stream",
          "name": "stderr",
          "text": [
            "Train: Loss=0.0087 Batch_id=117 Accuracy=99.18: 100%|██████████| 118/118 [00:23<00:00,  5.04it/s]\n"
          ]
        },
        {
          "output_type": "stream",
          "name": "stdout",
          "text": [
            "Test set: Average loss: 0.0000, Accuracy: 9922/10000 (99.22%)\n",
            "\n",
            "Adjusting learning rate of group 0 to 1.0000e-03.\n",
            "Epoch 19\n"
          ]
        },
        {
          "output_type": "stream",
          "name": "stderr",
          "text": [
            "Train: Loss=0.0035 Batch_id=117 Accuracy=99.20: 100%|██████████| 118/118 [00:22<00:00,  5.18it/s]\n"
          ]
        },
        {
          "output_type": "stream",
          "name": "stdout",
          "text": [
            "Test set: Average loss: 0.0000, Accuracy: 9927/10000 (99.27%)\n",
            "\n",
            "Adjusting learning rate of group 0 to 1.0000e-03.\n",
            "Epoch 20\n"
          ]
        },
        {
          "output_type": "stream",
          "name": "stderr",
          "text": [
            "Train: Loss=0.0254 Batch_id=117 Accuracy=99.17: 100%|██████████| 118/118 [00:22<00:00,  5.28it/s]\n"
          ]
        },
        {
          "output_type": "stream",
          "name": "stdout",
          "text": [
            "Test set: Average loss: 0.0000, Accuracy: 9926/10000 (99.26%)\n",
            "\n",
            "Adjusting learning rate of group 0 to 1.0000e-03.\n"
          ]
        }
      ],
      "source": [
        "model_mnist = model.Net().to(device)\n",
        "# optimizer = optim.SGD(model.parameters(), lr=10.01, momentum=0.9)\n",
        "optimizer = optim.SGD(model_mnist.parameters(), lr=0.01, momentum=0.9)\n",
        "scheduler = optim.lr_scheduler.StepLR(optimizer, step_size=15, gamma=0.1, verbose=True)\n",
        "# New Line\n",
        "criterion = nn.CrossEntropyLoss()\n",
        "num_epochs = 20\n",
        "\n",
        "for epoch in range(1, num_epochs+1):\n",
        "  print(f'Epoch {epoch}')\n",
        "  trainer.train(model_mnist, device, train_loader, optimizer, criterion)\n",
        "  trainer.test(model_mnist, device, test_loader, criterion)\n",
        "  scheduler.step()"
      ]
    },
    {
      "cell_type": "code",
      "execution_count": null,
      "metadata": {
        "id": "Zro6hbGp5R7Z",
        "outputId": "e6056f81-c8e9-4f73-a6f4-4e741985db30",
        "colab": {
          "base_uri": "https://localhost:8080/",
          "height": 791
        }
      },
      "outputs": [
        {
          "output_type": "display_data",
          "data": {
            "text/plain": [
              "<Figure size 1500x1000 with 4 Axes>"
            ],
            "image/png": "[encoded data removed]"
          },
          "metadata": {}
        }
      ],
      "source": [
        "trainer.draw_graphs()"
      ]
    },
    {
      "cell_type": "code",
      "execution_count": null,
      "metadata": {
        "colab": {
          "base_uri": "https://localhost:8080/"
        },
        "id": "C8WZPfXe4iK_",
        "outputId": "571ca161-fc58-4ad3-fd6f-2b82dd782925"
      },
      "outputs": [
        {
          "output_type": "stream",
          "name": "stdout",
          "text": [
            "----------------------------------------------------------------\n",
            "        Layer (type)               Output Shape         Param #\n",
            "================================================================\n",
            "            Conv2d-1           [-1, 32, 26, 26]             320\n",
            "            Conv2d-2           [-1, 64, 24, 24]          18,496\n",
            "            Conv2d-3          [-1, 128, 10, 10]          73,856\n",
            "            Conv2d-4            [-1, 256, 8, 8]         295,168\n",
            "            Linear-5                   [-1, 50]         204,850\n",
            "            Linear-6                   [-1, 10]             510\n",
            "================================================================\n",
            "Total params: 593,200\n",
            "Trainable params: 593,200\n",
            "Non-trainable params: 0\n",
            "----------------------------------------------------------------\n",
            "Input size (MB): 0.00\n",
            "Forward/backward pass size (MB): 0.67\n",
            "Params size (MB): 2.26\n",
            "Estimated Total Size (MB): 2.94\n",
            "----------------------------------------------------------------\n"
          ]
        }
      ],
      "source": [
        "utils.get_model_summary(model_mnist, device)"
      ]
    }
  ],
  "metadata": {
    "accelerator": "GPU",
    "colab": {
      "gpuType": "T4",
      "provenance": [],
      "include_colab_link": true
    },
    "kernelspec": {
      "display_name": "Python 3",
      "name": "python3"
    },
    "language_info": {
      "name": "python"
    }
  },
  "nbformat": 4,
  "nbformat_minor": 0
}